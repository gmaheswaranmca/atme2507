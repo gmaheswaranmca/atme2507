{
 "cells": [
  {
   "cell_type": "markdown",
   "id": "01ced1de",
   "metadata": {},
   "source": []
  },
  {
   "cell_type": "code",
   "execution_count": null,
   "id": "526d3098",
   "metadata": {},
   "outputs": [],
   "source": [
    "import pandas as pd \n",
    "df = pd.read_csv('bb.csv')\n",
    "df.head()"
   ]
  },
  {
   "cell_type": "markdown",
   "id": "1d1c6fdd",
   "metadata": {},
   "source": [
    "Filter the Hair Oil whose ratings more than 4"
   ]
  },
  {
   "cell_type": "code",
   "execution_count": null,
   "id": "421c338a",
   "metadata": {},
   "outputs": [],
   "source": [
    "hair_oil = df[(df['sub_category'] == 'Hair Care') & \n",
    "              (df['rating'] > 4) & \n",
    "              (df['type'] == 'Hair Oil & Serum')]\n",
    "\n",
    "print('\\n\\nshape\\n',hair_oil.shape)\n",
    "print('\\n\\ncolumns\\n',hair_oil.columns)"
   ]
  },
  {
   "cell_type": "code",
   "execution_count": null,
   "id": "327c6f66",
   "metadata": {},
   "outputs": [],
   "source": [
    "\n",
    "hair_oil.info()"
   ]
  },
  {
   "cell_type": "code",
   "execution_count": null,
   "id": "024453fd",
   "metadata": {},
   "outputs": [],
   "source": [
    "hair_oil.dtypes"
   ]
  },
  {
   "cell_type": "code",
   "execution_count": null,
   "id": "dcbb8333",
   "metadata": {},
   "outputs": [],
   "source": [
    "hair_oil.describe()"
   ]
  },
  {
   "cell_type": "code",
   "execution_count": null,
   "id": "dba4b195",
   "metadata": {},
   "outputs": [],
   "source": [
    "print('\\n\\nHair Oils:\\n',hair_oil.head())"
   ]
  },
  {
   "cell_type": "code",
   "execution_count": null,
   "id": "12f08e6f",
   "metadata": {},
   "outputs": [],
   "source": [
    "hair_oil.to_csv('hair_oil.csv')"
   ]
  }
 ],
 "metadata": {
  "kernelspec": {
   "display_name": "Python 3",
   "language": "python",
   "name": "python3"
  },
  "language_info": {
   "codemirror_mode": {
    "name": "ipython",
    "version": 3
   },
   "file_extension": ".py",
   "mimetype": "text/x-python",
   "name": "python",
   "nbconvert_exporter": "python",
   "pygments_lexer": "ipython3",
   "version": "3.12.1"
  }
 },
 "nbformat": 4,
 "nbformat_minor": 5
}
