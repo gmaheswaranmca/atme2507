{
 "cells": [
  {
   "cell_type": "markdown",
   "id": "01ced1de",
   "metadata": {},
   "source": []
  },
  {
   "cell_type": "code",
   "execution_count": 2,
   "id": "526d3098",
   "metadata": {},
   "outputs": [
    {
     "name": "stdout",
     "output_type": "stream",
     "text": [
      "   index                                            product  \\\n",
      "0      1             Garlic Oil - Vegetarian Capsule 500 mg   \n",
      "1      2                              Water Bottle - Orange   \n",
      "2      3                     Brass Angle Deep - Plain, No.2   \n",
      "3      4  Cereal Flip Lid Container/Storage Jar - Assort...   \n",
      "4      5                 Creme Soft Soap - For Hands & Body   \n",
      "\n",
      "                 category           sub_category              brand  \\\n",
      "0        Beauty & Hygiene              Hair Care  Sri Sri Ayurveda    \n",
      "1  Kitchen, Garden & Pets  Storage & Accessories         Mastercook   \n",
      "2    Cleaning & Household            Pooja Needs                Trm   \n",
      "3    Cleaning & Household   Bins & Bathroom Ware             Nakoda   \n",
      "4        Beauty & Hygiene       Bath & Hand Wash              Nivea   \n",
      "\n",
      "   sale_price  market_price                      type  rating  \\\n",
      "0       220.0         220.0          Hair Oil & Serum     4.1   \n",
      "1       180.0         180.0    Water & Fridge Bottles     2.3   \n",
      "2       119.0         250.0           Lamp & Lamp Oil     3.4   \n",
      "3       149.0         176.0  Laundry, Storage Baskets     3.7   \n",
      "4       162.0         162.0      Bathing Bars & Soaps     4.4   \n",
      "\n",
      "                                         description  \n",
      "0  This Product contains Garlic Oil that is known...  \n",
      "1  Each product is microwave safe (without lid), ...  \n",
      "2  A perfect gift for all occasions, be it your m...  \n",
      "3  Multipurpose container with an attractive desi...  \n",
      "4  Nivea Creme Soft Soap gives your skin the best...  \n"
     ]
    }
   ],
   "source": [
    "import pandas as pd \n",
    "df = pd.read_csv('bb.csv')\n",
    "print(df.head())"
   ]
  },
  {
   "cell_type": "markdown",
   "id": "1d1c6fdd",
   "metadata": {},
   "source": [
    "Filter the Hair Oil whose ratings more than 4"
   ]
  },
  {
   "cell_type": "code",
   "execution_count": null,
   "id": "421c338a",
   "metadata": {},
   "outputs": [
    {
     "name": "stdout",
     "output_type": "stream",
     "text": [
      "       index                                            product  \\\n",
      "0          1             Garlic Oil - Vegetarian Capsule 500 mg   \n",
      "172      173                                  Pain Relief - Oil   \n",
      "359      360                               Hair Spa Oil Therapy   \n",
      "766      767  Evening Primrose Oil - Vegetarian Capsule (500...   \n",
      "1340    1341                        Natural Nourishing Hair Oil   \n",
      "...      ...                                                ...   \n",
      "26261  26262                       Shanti - Badam Amla Hair Oil   \n",
      "26274  26275                                  Herbal Hair Serum   \n",
      "26433  26434  Organic Extra Virgin Olive Oil - Pure Coldpres...   \n",
      "26682  26683                              Hair Oil - Kesh Kanti   \n",
      "27445  27446  Organic Virgin Coconut Oil - Pure Coldpressed ...   \n",
      "\n",
      "               category sub_category              brand  sale_price  \\\n",
      "0      Beauty & Hygiene    Hair Care  Sri Sri Ayurveda        220.0   \n",
      "172    Beauty & Hygiene    Hair Care  Himalaya Wellness        90.0   \n",
      "359    Beauty & Hygiene    Hair Care            Prakrta       370.5   \n",
      "766    Beauty & Hygiene    Hair Care  Sri Sri Ayurveda        295.0   \n",
      "1340   Beauty & Hygiene    Hair Care        The Moms Co       393.0   \n",
      "...                 ...          ...                ...         ...   \n",
      "26261  Beauty & Hygiene    Hair Care              Nihar        15.0   \n",
      "26274  Beauty & Hygiene    Hair Care      Khadi Natural       200.0   \n",
      "26433  Beauty & Hygiene    Hair Care  Morpheme Remedies       449.0   \n",
      "26682  Beauty & Hygiene    Hair Care          Patanjali       250.0   \n",
      "27445  Beauty & Hygiene    Hair Care  Morpheme Remedies       427.0   \n",
      "\n",
      "       market_price              type  rating  \\\n",
      "0             220.0  Hair Oil & Serum     4.1   \n",
      "172           100.0  Hair Oil & Serum     4.4   \n",
      "359           390.0  Hair Oil & Serum     5.0   \n",
      "766           295.0  Hair Oil & Serum     5.0   \n",
      "1340          393.0  Hair Oil & Serum     5.0   \n",
      "...             ...               ...     ...   \n",
      "26261          20.0  Hair Oil & Serum     4.2   \n",
      "26274         235.0  Hair Oil & Serum     4.6   \n",
      "26433         449.0  Hair Oil & Serum     4.3   \n",
      "26682         250.0  Hair Oil & Serum     4.2   \n",
      "27445         449.0  Hair Oil & Serum     5.0   \n",
      "\n",
      "                                             description  \n",
      "0      This Product contains Garlic Oil that is known...  \n",
      "172    Pain Massage Oil is a herbal oil which provide...  \n",
      "359    Champi’ (Oil Massage) is a time tested way to ...  \n",
      "766    This Product contains Evening Primrose Oil tha...  \n",
      "1340   Our Nourishing Hair Oil is a toxin-free powerf...  \n",
      "...                                                  ...  \n",
      "26261  For Beauty tips, tricks & more visit https://b...  \n",
      "26274  Herbal hair serum is an amazing frizz free for...  \n",
      "26433  From moisturising your skin to helping you fig...  \n",
      "26682  Provide deep nourishment and strengthen the ha...  \n",
      "27445  Virgin coconut oil is a pure, unrefined, cold ...  \n",
      "\n",
      "[107 rows x 10 columns]\n"
     ]
    },
    {
     "data": {
      "text/plain": [
       "(107, 10)"
      ]
     },
     "execution_count": 6,
     "metadata": {},
     "output_type": "execute_result"
    }
   ],
   "source": [
    "hair_oil = df[(df['sub_category'] == 'Hair Care') & \n",
    "              (df['rating'] > 4) & \n",
    "              (df['type'] == 'Hair Oil & Serum')]\n",
    "print(hair_oil)\n",
    "print(hair_oil.shape)\n",
    "hair_oil.to_csv('hair_oil.csv')"
   ]
  },
  {
   "cell_type": "code",
   "execution_count": null,
   "id": "dba4b195",
   "metadata": {},
   "outputs": [],
   "source": []
  }
 ],
 "metadata": {
  "kernelspec": {
   "display_name": "Python 3",
   "language": "python",
   "name": "python3"
  },
  "language_info": {
   "codemirror_mode": {
    "name": "ipython",
    "version": 3
   },
   "file_extension": ".py",
   "mimetype": "text/x-python",
   "name": "python",
   "nbconvert_exporter": "python",
   "pygments_lexer": "ipython3",
   "version": "3.12.1"
  }
 },
 "nbformat": 4,
 "nbformat_minor": 5
}
