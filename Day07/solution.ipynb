{
 "cells": [
  {
   "cell_type": "code",
   "execution_count": 1,
   "id": "335f0369",
   "metadata": {},
   "outputs": [
    {
     "name": "stdout",
     "output_type": "stream",
     "text": [
      "Maheswaran Govindaraju\n"
     ]
    }
   ],
   "source": [
    "first_name = 'Maheswaran'\n",
    "last_name = 'Govindaraju'\n",
    "print(first_name + ' ' + last_name)"
   ]
  },
  {
   "cell_type": "code",
   "execution_count": 3,
   "id": "b6a27132",
   "metadata": {},
   "outputs": [
    {
     "name": "stdout",
     "output_type": "stream",
     "text": [
      "Hi Maheswaran\n"
     ]
    }
   ],
   "source": [
    "print('Hi ' + first_name)"
   ]
  },
  {
   "cell_type": "code",
   "execution_count": 11,
   "id": "ea38cffa",
   "metadata": {},
   "outputs": [
    {
     "name": "stdout",
     "output_type": "stream",
     "text": [
      "Education                    object\n",
      "JoiningYear                   int64\n",
      "City                         object\n",
      "PaymentTier                   int64\n",
      "Age                           int64\n",
      "Gender                       object\n",
      "EverBenched                  object\n",
      "ExperienceInCurrentDomain     int64\n",
      "LeaveOrNot                    int64\n",
      "dtype: object\n"
     ]
    }
   ],
   "source": [
    "\n",
    "print(df.dtypes)"
   ]
  },
  {
   "cell_type": "code",
   "execution_count": 10,
   "id": "b09edd5a",
   "metadata": {},
   "outputs": [
    {
     "name": "stdout",
     "output_type": "stream",
     "text": [
      "   Education  JoiningYear       City  PaymentTier  Age  Gender EverBenched  \\\n",
      "0  Bachelors         2017  Bangalore            3   34    Male          No   \n",
      "1  Bachelors         2013       Pune            1   28  Female          No   \n",
      "2  Bachelors         2014  New Delhi            3   38  Female          No   \n",
      "3    Masters         2016  Bangalore            3   27    Male          No   \n",
      "4    Masters         2017       Pune            3   24    Male         Yes   \n",
      "\n",
      "   ExperienceInCurrentDomain  LeaveOrNot  \n",
      "0                          0           0  \n",
      "1                          3           1  \n",
      "2                          2           0  \n",
      "3                          5           1  \n",
      "4                          2           1  \n",
      "(4653, 9)\n"
     ]
    }
   ],
   "source": [
    "import pandas as pd\n",
    "df = pd.read_csv('Employee.csv')\n",
    "print(df.head())\n",
    "print(df.shape)\n"
   ]
  },
  {
   "cell_type": "code",
   "execution_count": 12,
   "id": "69c6daee",
   "metadata": {},
   "outputs": [
    {
     "name": "stdout",
     "output_type": "stream",
     "text": [
      "    Education  JoiningYear       City  PaymentTier  Age  Gender EverBenched  \\\n",
      "10    Masters         2012  Bangalore            3   27    Male          No   \n",
      "11  Bachelors         2016       Pune            3   34    Male          No   \n",
      "12  Bachelors         2018       Pune            3   32    Male         Yes   \n",
      "13  Bachelors         2016  Bangalore            3   39    Male          No   \n",
      "14  Bachelors         2012  Bangalore            3   37    Male          No   \n",
      "15  Bachelors         2017  Bangalore            1   29    Male          No   \n",
      "16  Bachelors         2014  Bangalore            3   34  Female          No   \n",
      "17  Bachelors         2014       Pune            3   34    Male          No   \n",
      "18  Bachelors         2015       Pune            2   30  Female          No   \n",
      "19  Bachelors         2016  New Delhi            2   22  Female          No   \n",
      "\n",
      "    ExperienceInCurrentDomain  LeaveOrNot  \n",
      "10                          5           1  \n",
      "11                          3           0  \n",
      "12                          5           1  \n",
      "13                          2           0  \n",
      "14                          4           0  \n",
      "15                          3           0  \n",
      "16                          2           0  \n",
      "17                          4           0  \n",
      "18                          0           1  \n",
      "19                          0           1  \n"
     ]
    }
   ],
   "source": [
    "print(df.iloc[10:20,:])\n"
   ]
  },
  {
   "cell_type": "code",
   "execution_count": 17,
   "id": "65a6dbab",
   "metadata": {},
   "outputs": [
    {
     "name": "stdout",
     "output_type": "stream",
     "text": [
      "    Education  Age       City\n",
      "10    Masters   27  Bangalore\n",
      "11  Bachelors   34       Pune\n",
      "12  Bachelors   32       Pune\n",
      "13  Bachelors   39  Bangalore\n",
      "14  Bachelors   37  Bangalore\n",
      "15  Bachelors   29  Bangalore\n",
      "16  Bachelors   34  Bangalore\n",
      "17  Bachelors   34       Pune\n",
      "18  Bachelors   30       Pune\n",
      "19  Bachelors   22  New Delhi\n"
     ]
    }
   ],
   "source": [
    "print(df.loc[10:19, ['Education', 'Age', 'City']])"
   ]
  },
  {
   "cell_type": "code",
   "execution_count": 20,
   "id": "a03a8ed5",
   "metadata": {},
   "outputs": [
    {
     "name": "stdout",
     "output_type": "stream",
     "text": [
      "    Education  JoiningYear       City  PaymentTier  Age  Gender EverBenched  \\\n",
      "0   Bachelors         2017  Bangalore            3   34    Male          No   \n",
      "3     Masters         2016  Bangalore            3   27    Male          No   \n",
      "5   Bachelors         2016  Bangalore            3   22    Male          No   \n",
      "7   Bachelors         2016  Bangalore            3   34  Female          No   \n",
      "10    Masters         2012  Bangalore            3   27    Male          No   \n",
      "\n",
      "    ExperienceInCurrentDomain  LeaveOrNot  \n",
      "0                           0           0  \n",
      "3                           5           1  \n",
      "5                           0           0  \n",
      "7                           2           1  \n",
      "10                          5           1  \n"
     ]
    }
   ],
   "source": [
    "blr_df = df[df['City'] == 'Bangalore']\n",
    "print(blr_df.head())\n",
    "blr_df.to_csv('blr.csv')"
   ]
  },
  {
   "cell_type": "code",
   "execution_count": 24,
   "id": "e840b8c9",
   "metadata": {},
   "outputs": [
    {
     "name": "stdout",
     "output_type": "stream",
     "text": [
      "    Education  JoiningYear       City  PaymentTier  Age  Gender EverBenched  \\\n",
      "7   Bachelors         2016  Bangalore            3   34  Female          No   \n",
      "16  Bachelors         2014  Bangalore            3   34  Female          No   \n",
      "52  Bachelors         2016  Bangalore            3   34  Female          No   \n",
      "53  Bachelors         2014  Bangalore            3   31  Female         Yes   \n",
      "69    Masters         2017  Bangalore            3   40  Female          No   \n",
      "\n",
      "    ExperienceInCurrentDomain  LeaveOrNot  \n",
      "7                           2           1  \n",
      "16                          2           0  \n",
      "52                          0           0  \n",
      "53                          5           0  \n",
      "69                          2           1  \n",
      "(222, 9)\n"
     ]
    }
   ],
   "source": [
    "blr_aunty_df = df[(df['City'] == 'Bangalore') & (df['Age'] > 30) & (df['Gender'] == 'Female')]\n",
    "print(blr_aunty_df.head())\n",
    "print(blr_aunty_df.shape)\n",
    "blr_aunty_df.to_csv('blr_aunty.csv')"
   ]
  }
 ],
 "metadata": {
  "kernelspec": {
   "display_name": "Python 3",
   "language": "python",
   "name": "python3"
  },
  "language_info": {
   "codemirror_mode": {
    "name": "ipython",
    "version": 3
   },
   "file_extension": ".py",
   "mimetype": "text/x-python",
   "name": "python",
   "nbconvert_exporter": "python",
   "pygments_lexer": "ipython3",
   "version": "3.12.1"
  }
 },
 "nbformat": 4,
 "nbformat_minor": 5
}
